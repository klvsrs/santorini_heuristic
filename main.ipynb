{
 "cells": [
  {
   "cell_type": "code",
   "id": "initial_id",
   "metadata": {
    "collapsed": true,
    "ExecuteTime": {
     "end_time": "2024-04-10T23:54:43.556221Z",
     "start_time": "2024-04-10T23:54:43.531525Z"
    }
   },
   "source": [
    "import gameEngine\n",
    "from random import choice\n",
    "from random import randint"
   ],
   "outputs": [],
   "execution_count": 1
  },
  {
   "metadata": {},
   "cell_type": "code",
   "source": [
    "s = gameEngine.gen_starting_state(2)\n",
    "s"
   ],
   "id": "2dfd5af05988aa77",
   "outputs": [],
   "execution_count": null
  },
  {
   "metadata": {},
   "cell_type": "code",
   "source": "gameEngine.next_state(s,gameEngine.gen_valid_moves(s),0)",
   "id": "18938e6339a91726",
   "outputs": [],
   "execution_count": null
  },
  {
   "metadata": {},
   "cell_type": "code",
   "source": [
    "heuristic_list = []\n",
    "action_list = gameEngine.gen_valid_moves(s)\n",
    "for i in range(len(action_list)):\n",
    "    heuristic_list.append(gameEngine.f_heuristic(s,action_list,i))\n",
    "heuristic_list"
   ],
   "id": "337257c64eb33589",
   "outputs": [],
   "execution_count": null
  },
  {
   "metadata": {
    "ExecuteTime": {
     "end_time": "2024-04-10T23:54:46.558782Z",
     "start_time": "2024-04-10T23:54:45.870600Z"
    }
   },
   "cell_type": "code",
   "source": [
    "turn_max = 1000\n",
    "turn_count = 0\n",
    "p1_win = 0 #Heuristic\n",
    "p2_win = 0 #Random\n",
    "latch = True\n",
    "while turn_count != turn_max:\n",
    "    s = gameEngine.gen_starting_state(2)\n",
    "    latch = True\n",
    "    while latch:\n",
    "        action_list = gameEngine.gen_valid_moves(s)    \n",
    "        if len(action_list) == 0:\n",
    "            s[1] = 'lose'\n",
    "        else:\n",
    "            if s[0] == 'p1':\n",
    "                # selected_index = randint(0, len(action_list)-1)\n",
    "                heuristic_list = []\n",
    "                for i in range(len(action_list)):\n",
    "                    heuristic_list.append(gameEngine.f_heuristic(s,action_list,i))\n",
    "                max_value = max(heuristic_list)\n",
    "                max_value_indexes = [index for index, value in enumerate(heuristic_list) if value == max_value]\n",
    "                selected_index = choice(max_value_indexes)\n",
    "            else:\n",
    "                selected_index = randint(0, len(action_list)-1)\n",
    "            gameEngine.next_state(s,action_list,selected_index)\n",
    "        if s[1] == 'win':\n",
    "            if s[0] == 'p1':\n",
    "                p1_win = p1_win + 1\n",
    "            else:\n",
    "                p2_win = p2_win + 1\n",
    "            latch = False\n",
    "        elif s[1] == 'lose':\n",
    "            if s[0] == 'p2':\n",
    "                p1_win = p1_win + 1\n",
    "            else:\n",
    "                p2_win = p2_win + 1\n",
    "            latch = False\n",
    "    turn_count = turn_count + 1\n",
    "print('p1 win : '+str(p1_win))\n",
    "print('p2 win : '+str(p2_win))"
   ],
   "id": "9b17c01993d1875f",
   "outputs": [
    {
     "name": "stdout",
     "output_type": "stream",
     "text": [
      "p1 win : 997\n",
      "p2 win : 3\n"
     ]
    }
   ],
   "execution_count": 2
  },
  {
   "metadata": {
    "ExecuteTime": {
     "end_time": "2024-04-10T23:54:58.249049Z",
     "start_time": "2024-04-10T23:54:57.442655Z"
    }
   },
   "cell_type": "code",
   "source": [
    "turn_max = 1000\n",
    "turn_count = 0\n",
    "p1_win = 0 #Heuristic\n",
    "p2_win = 0 #Random\n",
    "latch = True\n",
    "while turn_count != turn_max:\n",
    "    s = gameEngine.gen_starting_state(2)\n",
    "    latch = True\n",
    "    while latch:\n",
    "        action_list = gameEngine.gen_valid_moves(s)\n",
    "        if len(action_list) == 0:\n",
    "            s[1] = 'lose'\n",
    "        else:\n",
    "            if s[0] == 'p1':\n",
    "                # selected_index = randint(0, len(action_list)-1)\n",
    "                heuristic_list = []\n",
    "                for i in range(len(action_list)):\n",
    "                    heuristic_list.append(gameEngine.f_heuristic_god(s,action_list,i))\n",
    "                max_value = max(heuristic_list)\n",
    "                max_value_indexes = [index for index, value in enumerate(heuristic_list) if value == max_value]\n",
    "                selected_index = choice(max_value_indexes)\n",
    "            else:\n",
    "                selected_index = randint(0, len(action_list)-1)\n",
    "            gameEngine.next_state(s,action_list,selected_index)\n",
    "        if s[1] == 'win':\n",
    "            if s[0] == 'p1':\n",
    "                p1_win = p1_win + 1\n",
    "            else:\n",
    "                p2_win = p2_win + 1\n",
    "            latch = False\n",
    "        elif s[1] == 'lose':\n",
    "            if s[0] == 'p2':\n",
    "                p1_win = p1_win + 1\n",
    "            else:\n",
    "                p2_win = p2_win + 1\n",
    "            latch = False\n",
    "    turn_count = turn_count + 1\n",
    "print('p1 win : '+str(p1_win))\n",
    "print('p2 win : '+str(p2_win))"
   ],
   "id": "e19b0495aa5df066",
   "outputs": [
    {
     "name": "stdout",
     "output_type": "stream",
     "text": [
      "p1 win : 995\n",
      "p2 win : 5\n"
     ]
    }
   ],
   "execution_count": 5
  },
  {
   "metadata": {
    "ExecuteTime": {
     "end_time": "2024-04-11T00:14:08.516344Z",
     "start_time": "2024-04-11T00:12:50.092448Z"
    }
   },
   "cell_type": "code",
   "source": [
    "#random, norm heuristic, god heuristic\n",
    "function_name = ['random','norm heuristic','god heuristic']\n",
    "function_arr = [0,1,2]\n",
    "game_max = 10000\n",
    "for p1 in range(len(function_arr)):\n",
    "    for p2 in range(len(function_arr)):\n",
    "        game_count = 0\n",
    "        p1_win = 0 #Heuristic\n",
    "        p2_win = 0 #Random\n",
    "        latch = True\n",
    "        while game_count != game_max:\n",
    "            s = gameEngine.gen_starting_state(2)\n",
    "            latch = True\n",
    "            while latch:\n",
    "                action_list = gameEngine.gen_valid_moves(s)\n",
    "                if len(action_list) == 0:\n",
    "                    s[1] = 'lose'\n",
    "                else:\n",
    "                    if s[0] == 'p1':\n",
    "                        if p1 == 0:\n",
    "                            selected_index = randint(0, len(action_list)-1)\n",
    "                        elif p1 == 1:\n",
    "                            heuristic_list = []\n",
    "                            for i in range(len(action_list)):\n",
    "                                heuristic_list.append(gameEngine.f_heuristic(s,action_list,i))\n",
    "                            max_value = max(heuristic_list)\n",
    "                            max_value_indexes = [index for index, value in enumerate(heuristic_list) if value == max_value]\n",
    "                            selected_index = choice(max_value_indexes)\n",
    "                        else:\n",
    "                            heuristic_list = []\n",
    "                            for i in range(len(action_list)):\n",
    "                                heuristic_list.append(gameEngine.f_heuristic_god(s,action_list,i))\n",
    "                            max_value = max(heuristic_list)\n",
    "                            max_value_indexes = [index for index, value in enumerate(heuristic_list) if value == max_value]\n",
    "                            selected_index = choice(max_value_indexes)\n",
    "                    else:\n",
    "                        if p2 == 0:\n",
    "                            selected_index = randint(0, len(action_list)-1)\n",
    "                        elif p2 == 1:\n",
    "                            heuristic_list = []\n",
    "                            for i in range(len(action_list)):\n",
    "                                heuristic_list.append(gameEngine.f_heuristic(s,action_list,i))\n",
    "                            max_value = max(heuristic_list)\n",
    "                            max_value_indexes = [index for index, value in enumerate(heuristic_list) if value == max_value]\n",
    "                            selected_index = choice(max_value_indexes)\n",
    "                        else:\n",
    "                            heuristic_list = []\n",
    "                            for i in range(len(action_list)):\n",
    "                                heuristic_list.append(gameEngine.f_heuristic_god(s,action_list,i))\n",
    "                            max_value = max(heuristic_list)\n",
    "                            max_value_indexes = [index for index, value in enumerate(heuristic_list) if value == max_value]\n",
    "                            selected_index = choice(max_value_indexes)\n",
    "                    gameEngine.next_state(s,action_list,selected_index)\n",
    "                if s[1] == 'win':\n",
    "                    if s[0] == 'p1':\n",
    "                        p1_win = p1_win + 1\n",
    "                    else:\n",
    "                        p2_win = p2_win + 1\n",
    "                    latch = False\n",
    "                elif s[1] == 'lose':\n",
    "                    if s[0] == 'p2':\n",
    "                        p1_win = p1_win + 1\n",
    "                    else:\n",
    "                        p2_win = p2_win + 1\n",
    "                    latch = False\n",
    "            game_count = game_count + 1\n",
    "        print('p1: ' +function_name[p1]+' p2: '+function_name[p2]+' win rate : '+str(p1_win*100/game_max))\n",
    "        print('p1 win : '+str(p1_win))\n",
    "        print('p2 win : '+str(p2_win))"
   ],
   "id": "1e607e4ff2617f6b",
   "outputs": [
    {
     "name": "stdout",
     "output_type": "stream",
     "text": [
      "p1: random p2: random win rate : 49.72\n",
      "p1 win : 4972\n",
      "p2 win : 5028\n",
      "p1: random p2: norm heuristic win rate : 0.22\n",
      "p1 win : 22\n",
      "p2 win : 9978\n",
      "p1: random p2: god heuristic win rate : 0.84\n",
      "p1 win : 84\n",
      "p2 win : 9916\n",
      "p1: norm heuristic p2: random win rate : 99.77\n",
      "p1 win : 9977\n",
      "p2 win : 23\n",
      "p1: norm heuristic p2: norm heuristic win rate : 55.72\n",
      "p1 win : 5572\n",
      "p2 win : 4428\n",
      "p1: norm heuristic p2: god heuristic win rate : 59.69\n",
      "p1 win : 5969\n",
      "p2 win : 4031\n",
      "p1: god heuristic p2: random win rate : 99.24\n",
      "p1 win : 9924\n",
      "p2 win : 76\n",
      "p1: god heuristic p2: norm heuristic win rate : 52.26\n",
      "p1 win : 5226\n",
      "p2 win : 4774\n",
      "p1: god heuristic p2: god heuristic win rate : 56.14\n",
      "p1 win : 5614\n",
      "p2 win : 4386\n"
     ]
    }
   ],
   "execution_count": 14
  }
 ],
 "metadata": {
  "kernelspec": {
   "display_name": "Python 3",
   "language": "python",
   "name": "python3"
  },
  "language_info": {
   "codemirror_mode": {
    "name": "ipython",
    "version": 2
   },
   "file_extension": ".py",
   "mimetype": "text/x-python",
   "name": "python",
   "nbconvert_exporter": "python",
   "pygments_lexer": "ipython2",
   "version": "2.7.6"
  }
 },
 "nbformat": 4,
 "nbformat_minor": 5
}
