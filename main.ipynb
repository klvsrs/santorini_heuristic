{
 "cells": [
  {
   "cell_type": "code",
   "id": "initial_id",
   "metadata": {
    "collapsed": true,
    "ExecuteTime": {
     "end_time": "2024-04-10T16:03:54.645909Z",
     "start_time": "2024-04-10T16:03:54.636836Z"
    }
   },
   "source": [
    "import gameEngine\n",
    "from random import choice\n",
    "from random import randint"
   ],
   "outputs": [],
   "execution_count": 1
  },
  {
   "metadata": {},
   "cell_type": "code",
   "source": [
    "s = gameEngine.gen_starting_state(2)\n",
    "s"
   ],
   "id": "2dfd5af05988aa77",
   "outputs": [],
   "execution_count": null
  },
  {
   "metadata": {},
   "cell_type": "code",
   "source": "gameEngine.next_state(s,gameEngine.gen_valid_moves(s),0)",
   "id": "18938e6339a91726",
   "outputs": [],
   "execution_count": null
  },
  {
   "metadata": {},
   "cell_type": "code",
   "source": [
    "heuristic_list = []\n",
    "action_list = gameEngine.gen_valid_moves(s)\n",
    "for i in range(len(action_list)):\n",
    "    heuristic_list.append(gameEngine.f_heuristic(s,action_list,i))\n",
    "heuristic_list"
   ],
   "id": "337257c64eb33589",
   "outputs": [],
   "execution_count": null
  },
  {
   "metadata": {
    "ExecuteTime": {
     "end_time": "2024-04-10T16:04:54.595083Z",
     "start_time": "2024-04-10T16:04:48.291371Z"
    }
   },
   "cell_type": "code",
   "source": [
    "turn_max = 10000\n",
    "turn_count = 0\n",
    "p1_win = 0 #Heuristic\n",
    "p2_win = 0 #Random\n",
    "latch = True\n",
    "while turn_count != turn_max:\n",
    "    s = gameEngine.gen_starting_state(2)\n",
    "    latch = True\n",
    "    while latch:\n",
    "        action_list = gameEngine.gen_valid_moves(s)    \n",
    "        if len(action_list) == 0:\n",
    "            s[1] = 'lose'\n",
    "        else:\n",
    "            if s[0] == 'p1':\n",
    "                # selected_index = randint(0, len(action_list)-1)\n",
    "                heuristic_list = []\n",
    "                for i in range(len(action_list)):\n",
    "                    heuristic_list.append(gameEngine.f_heuristic(s,action_list,i))\n",
    "                max_value = max(heuristic_list)\n",
    "                max_value_indexes = [index for index, value in enumerate(heuristic_list) if value == max_value]\n",
    "                selected_index = choice(max_value_indexes)\n",
    "            else:\n",
    "                selected_index = randint(0, len(action_list)-1)\n",
    "            gameEngine.next_state(s,action_list,selected_index)\n",
    "        if s[1] == 'win':\n",
    "            if s[0] == 'p1':\n",
    "                p1_win = p1_win + 1\n",
    "            else:\n",
    "                p2_win = p2_win + 1\n",
    "            latch = False\n",
    "        elif s[1] == 'lose':\n",
    "            if s[0] == 'p2':\n",
    "                p1_win = p1_win + 1\n",
    "            else:\n",
    "                p2_win = p2_win + 1\n",
    "            latch = False\n",
    "    turn_count = turn_count + 1\n",
    "print('p1 win : '+str(p1_win))\n",
    "print('p2 win : '+str(p2_win))"
   ],
   "id": "9b17c01993d1875f",
   "outputs": [
    {
     "name": "stdout",
     "output_type": "stream",
     "text": [
      "p1 win : 9938\n",
      "p2 win : 62\n"
     ]
    }
   ],
   "execution_count": 6
  }
 ],
 "metadata": {
  "kernelspec": {
   "display_name": "Python 3",
   "language": "python",
   "name": "python3"
  },
  "language_info": {
   "codemirror_mode": {
    "name": "ipython",
    "version": 2
   },
   "file_extension": ".py",
   "mimetype": "text/x-python",
   "name": "python",
   "nbconvert_exporter": "python",
   "pygments_lexer": "ipython2",
   "version": "2.7.6"
  }
 },
 "nbformat": 4,
 "nbformat_minor": 5
}
