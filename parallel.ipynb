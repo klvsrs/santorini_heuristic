{
 "cells": [
  {
   "metadata": {
    "ExecuteTime": {
     "end_time": "2024-04-12T16:23:17.503808Z",
     "start_time": "2024-04-12T16:23:17.495518Z"
    }
   },
   "cell_type": "code",
   "source": [
    "import gameEngine\n",
    "import copy\n",
    "import pickle\n",
    "import concurrent.futures\n",
    "from random import choice\n",
    "from random import randint\n",
    "from tqdm import tqdm"
   ],
   "id": "aa0c8504ce80b39",
   "outputs": [],
   "execution_count": 1
  },
  {
   "metadata": {
    "ExecuteTime": {
     "end_time": "2024-04-12T02:57:00.436339Z",
     "start_time": "2024-04-12T02:57:00.420287Z"
    }
   },
   "cell_type": "code",
   "source": [
    "def run_single_game(p1_func,p2_func):\n",
    "    s = gameEngine.gen_starting_state(2)\n",
    "    latch = True\n",
    "    p1_win = 0\n",
    "    p2_win = 0\n",
    "    while latch:\n",
    "        action_list = gameEngine.gen_valid_moves(s)\n",
    "        if len(action_list) == 0:\n",
    "            s[1] = 'lose'\n",
    "        else:\n",
    "            if s[0] == 'p1':\n",
    "                if p1_func == 0:\n",
    "                    selected_index = randint(0, len(action_list)-1)\n",
    "                elif p1_func == 1:\n",
    "                    heuristic_list = []\n",
    "                    for i in range(len(action_list)):\n",
    "                        heuristic_list.append(gameEngine.f_heuristic(s,action_list,i))\n",
    "                    max_value = max(heuristic_list)\n",
    "                    max_value_indexes = [index for index, value in enumerate(heuristic_list) if value == max_value]\n",
    "                    selected_index = choice(max_value_indexes)\n",
    "                else:\n",
    "                    heuristic_list = []\n",
    "                    for i in range(len(action_list)):\n",
    "                        heuristic_list.append(gameEngine.f_heuristic_god(s,action_list,i))\n",
    "                    max_value = max(heuristic_list)\n",
    "                    max_value_indexes = [index for index, value in enumerate(heuristic_list) if value == max_value]\n",
    "                    selected_index = choice(max_value_indexes)\n",
    "            else:\n",
    "                if p2_func == 0:\n",
    "                    selected_index = randint(0, len(action_list)-1)\n",
    "                elif p2_func == 1:\n",
    "                    heuristic_list = []\n",
    "                    for i in range(len(action_list)):\n",
    "                        heuristic_list.append(gameEngine.f_heuristic(s,action_list,i))\n",
    "                    max_value = max(heuristic_list)\n",
    "                    max_value_indexes = [index for index, value in enumerate(heuristic_list) if value == max_value]\n",
    "                    selected_index = choice(max_value_indexes)\n",
    "                else:\n",
    "                    heuristic_list = []\n",
    "                    for i in range(len(action_list)):\n",
    "                        heuristic_list.append(gameEngine.f_heuristic_god(s,action_list,i))\n",
    "                    max_value = max(heuristic_list)\n",
    "                    max_value_indexes = [index for index, value in enumerate(heuristic_list) if value == max_value]\n",
    "                    selected_index = choice(max_value_indexes)\n",
    "            gameEngine.next_state(s,action_list,selected_index)\n",
    "        if s[1] == 'win':\n",
    "            if s[0] == 'p1':\n",
    "                p1_win = p1_win + 1\n",
    "            else:\n",
    "                p2_win = p2_win + 1\n",
    "            latch = False\n",
    "        elif s[1] == 'lose':\n",
    "            if s[0] == 'p2':\n",
    "                p1_win = p1_win + 1\n",
    "            else:\n",
    "                p2_win = p2_win + 1\n",
    "            latch = False\n",
    "    return (p1_func,p2_func,p1_win,p2_win)"
   ],
   "id": "ac63d0ae4eed36fb",
   "outputs": [],
   "execution_count": 2
  },
  {
   "metadata": {
    "ExecuteTime": {
     "end_time": "2024-04-12T16:23:20.907722Z",
     "start_time": "2024-04-12T16:23:20.894774Z"
    }
   },
   "cell_type": "code",
   "source": [
    "def run_single_game_save(p1_func,p2_func,game_id):\n",
    "    s = gameEngine.gen_starting_state(2)\n",
    "    s_hist = [copy.deepcopy(s)]\n",
    "    latch = True\n",
    "    p1_win = 0\n",
    "    p2_win = 0\n",
    "    heuristic_list = []\n",
    "    selected_index = -1\n",
    "    while latch:\n",
    "        action_list = gameEngine.gen_valid_moves(s)\n",
    "        if len(action_list) == 0:\n",
    "            s[1] = 'lose'\n",
    "        else:\n",
    "            if s[0] == 'p1':\n",
    "                if p1_func == 0:\n",
    "                    selected_index = randint(0, len(action_list)-1)\n",
    "                elif p1_func == 1:\n",
    "                    heuristic_list = []\n",
    "                    for i in range(len(action_list)):\n",
    "                        heuristic_list.append(gameEngine.f_heuristic(s,action_list,i))\n",
    "                    max_value = max(heuristic_list)\n",
    "                    max_value_indexes = [index for index, value in enumerate(heuristic_list) if value == max_value]\n",
    "                    selected_index = choice(max_value_indexes)\n",
    "                else:\n",
    "                    heuristic_list = []\n",
    "                    for i in range(len(action_list)):\n",
    "                        heuristic_list.append(gameEngine.f_heuristic_god(s,action_list,i))\n",
    "                    max_value = max(heuristic_list)\n",
    "                    max_value_indexes = [index for index, value in enumerate(heuristic_list) if value == max_value]\n",
    "                    selected_index = choice(max_value_indexes)\n",
    "            else:\n",
    "                if p2_func == 0:\n",
    "                    selected_index = randint(0, len(action_list)-1)\n",
    "                elif p2_func == 1:\n",
    "                    heuristic_list = []\n",
    "                    for i in range(len(action_list)):\n",
    "                        heuristic_list.append(gameEngine.f_heuristic(s,action_list,i))\n",
    "                    max_value = max(heuristic_list)\n",
    "                    max_value_indexes = [index for index, value in enumerate(heuristic_list) if value == max_value]\n",
    "                    selected_index = choice(max_value_indexes)\n",
    "                else:\n",
    "                    heuristic_list = []\n",
    "                    for i in range(len(action_list)):\n",
    "                        heuristic_list.append(gameEngine.f_heuristic_god(s,action_list,i))\n",
    "                    max_value = max(heuristic_list)\n",
    "                    max_value_indexes = [index for index, value in enumerate(heuristic_list) if value == max_value]\n",
    "                    selected_index = choice(max_value_indexes)\n",
    "            s_temp = copy.deepcopy(s)\n",
    "            s_temp.append(selected_index)\n",
    "            s_temp.append(action_list)\n",
    "            s_temp.append(heuristic_list)\n",
    "            s_hist.append(s_temp)\n",
    "            gameEngine.next_state(s,action_list,selected_index)\n",
    "        if s[1] == 'win':\n",
    "            if s[0] == 'p1':\n",
    "                p1_win = p1_win + 1\n",
    "            else:\n",
    "                p2_win = p2_win + 1\n",
    "            latch = False\n",
    "        elif s[1] == 'lose':\n",
    "            if s[0] == 'p2':\n",
    "                p1_win = p1_win + 1\n",
    "            else:\n",
    "                p2_win = p2_win + 1\n",
    "            latch = False\n",
    "    filename = f\"saved_state/game_state_{p1_func}_{p2_func}_{game_id}.pkl\"\n",
    "    with open(filename, 'wb') as file:\n",
    "        pickle.dump(s_hist, file)\n",
    "    return (p1_func,p2_func,p1_win,p2_win)"
   ],
   "id": "b6389c97955be985",
   "outputs": [],
   "execution_count": 2
  },
  {
   "metadata": {
    "ExecuteTime": {
     "end_time": "2024-04-12T02:57:00.459707Z",
     "start_time": "2024-04-12T02:57:00.453760Z"
    }
   },
   "cell_type": "code",
   "source": [
    "function_name = ['random','norm heuristic','god heuristic']\n",
    "function_arr = [0,1,2]\n",
    "game_max = 100\n",
    "player_pairs = []\n",
    "for p1 in range(len(function_arr)):\n",
    "    for p2 in range(len(function_arr)):\n",
    "        for i in range(game_max):\n",
    "            player_pairs.append((p1,p2))"
   ],
   "id": "aa557253da253c9f",
   "outputs": [],
   "execution_count": 4
  },
  {
   "metadata": {
    "ExecuteTime": {
     "end_time": "2024-04-12T02:57:00.909307Z",
     "start_time": "2024-04-12T02:57:00.461903Z"
    }
   },
   "cell_type": "code",
   "source": [
    "with concurrent.futures.ProcessPoolExecutor(max_workers=4) as executor:\n",
    "    results = list(tqdm(executor.map(run_single_game, *zip(*player_pairs)), total=len(player_pairs)))"
   ],
   "id": "59d060242b72073c",
   "outputs": [
    {
     "name": "stderr",
     "output_type": "stream",
     "text": [
      "100%|██████████| 900/900 [00:00<00:00, 2838.40it/s]\n"
     ]
    }
   ],
   "execution_count": 5
  },
  {
   "metadata": {
    "ExecuteTime": {
     "end_time": "2024-04-12T16:23:31.688364Z",
     "start_time": "2024-04-12T16:23:31.681370Z"
    }
   },
   "cell_type": "code",
   "source": [
    "function_name = ['random','norm heuristic','god heuristic']\n",
    "function_arr = [0,1,2]\n",
    "game_max = 100\n",
    "player_pairs = []\n",
    "for p1 in range(len(function_arr)):\n",
    "    for p2 in range(len(function_arr)):\n",
    "        for i in range(game_max):\n",
    "            player_pairs.append((p1,p2, i))"
   ],
   "id": "5eaeeac4f2a96366",
   "outputs": [],
   "execution_count": 3
  },
  {
   "metadata": {
    "ExecuteTime": {
     "end_time": "2024-04-12T16:23:34.019512Z",
     "start_time": "2024-04-12T16:23:33.107837Z"
    }
   },
   "cell_type": "code",
   "source": [
    "with concurrent.futures.ProcessPoolExecutor(max_workers=4) as executor:\n",
    "    results = list(tqdm(executor.map(run_single_game_save, *zip(*player_pairs)), total=len(player_pairs)))"
   ],
   "id": "db520677fa7a64c0",
   "outputs": [
    {
     "name": "stderr",
     "output_type": "stream",
     "text": [
      "100%|██████████| 900/900 [00:00<00:00, 1118.80it/s]\n"
     ]
    }
   ],
   "execution_count": 4
  }
 ],
 "metadata": {
  "kernelspec": {
   "display_name": "Python 3",
   "language": "python",
   "name": "python3"
  },
  "language_info": {
   "codemirror_mode": {
    "name": "ipython",
    "version": 2
   },
   "file_extension": ".py",
   "mimetype": "text/x-python",
   "name": "python",
   "nbconvert_exporter": "python",
   "pygments_lexer": "ipython2",
   "version": "2.7.6"
  }
 },
 "nbformat": 4,
 "nbformat_minor": 5
}
